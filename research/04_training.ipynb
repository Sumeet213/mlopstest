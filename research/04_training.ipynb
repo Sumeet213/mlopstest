{
 "cells": [
  {
   "cell_type": "code",
   "execution_count": 1,
   "metadata": {},
   "outputs": [],
   "source": [
    "import numpy as np\n",
    "from sklearn.model_selection import train_test_split\n",
    "from transformers import BertTokenizerFast\n",
    "import tensorflow as tf\n",
    "from tensorflow.keras.optimizers import Adam\n",
    "\n",
    "def train_model(df, intents, model, callbacks, batch_size, epochs):\n",
    "    # Load the BERT tokenizer\n",
    "    tokenizer = BertTokenizerFast.from_pretrained('bert-base-uncased')\n",
    "\n",
    "    # Encode the text data\n",
    "    input_encodings = tokenizer(df['text'].tolist(), truncation=True, padding=True, max_length=512)\n",
    "\n",
    "    # Create binary labels for each intent\n",
    "    labels = df[intents].values\n",
    "\n",
    "    # Split the data into training and validation sets\n",
    "    train_inputs, val_inputs, train_labels, val_labels = train_test_split(input_encodings['input_ids'], labels, test_size=0.2)\n",
    "\n",
    "    # Convert the data to TensorFlow Datasets\n",
    "    train_dataset = tf.data.Dataset.from_tensor_slices((train_inputs, train_labels)).shuffle(10000).batch(batch_size)\n",
    "    val_dataset = tf.data.Dataset.from_tensor_slices((val_inputs, val_labels)).batch(batch_size)\n",
    "\n",
    "    # Compile the model with a optimizer, loss, and metrics\n",
    "    model.compile(optimizer=Adam(learning_rate=3e-5, epsilon=1e-08, clipnorm=1.0), \n",
    "                  loss='binary_crossentropy',  # Using binary_crossentropy for multi-label classification\n",
    "                  metrics=['accuracy'])\n",
    "\n",
    "    # Train the model\n",
    "    model.fit(train_dataset, epochs=epochs, validation_data=val_dataset, callbacks=callbacks)\n",
    "    \n",
    "    return model\n"
   ]
  }
 ],
 "metadata": {
  "kernelspec": {
   "display_name": "chicken",
   "language": "python",
   "name": "python3"
  },
  "language_info": {
   "codemirror_mode": {
    "name": "ipython",
    "version": 3
   },
   "file_extension": ".py",
   "mimetype": "text/x-python",
   "name": "python",
   "nbconvert_exporter": "python",
   "pygments_lexer": "ipython3",
   "version": "3.8.16"
  },
  "orig_nbformat": 4
 },
 "nbformat": 4,
 "nbformat_minor": 2
}
